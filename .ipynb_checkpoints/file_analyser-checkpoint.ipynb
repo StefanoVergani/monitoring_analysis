{
 "cells": [
  {
   "cell_type": "code",
   "execution_count": null,
   "metadata": {},
   "outputs": [],
   "source": [
    "####how to open an HDF5 file, extract data, and start some basics data analysis\n",
    "\n",
    "\n",
    "if __name__ == '__main__':\n",
    "# import required libraries\n",
    "    import h5py as h5\n",
    "    import numpy as np\n",
    "    import matplotlib.pyplot as plt\n",
    "    \n",
    "    # Read H5 file\n",
    "    f = h5.File(\"raw_display-1-220525-151538.hdf5\", \"r\")\n",
    "    # Get and print list of datasets within the H5 file\n",
    "    datasetNames = [n for n in f.keys()]\n",
    "    for n in datasetNames:\n",
    "        print(n)"
   ]
  },
  {
   "cell_type": "code",
   "execution_count": null,
   "metadata": {},
   "outputs": [],
   "source": [
    "###this snippet tells you the structure of the file, dividing in datasets and groups. It doesn't tell you anything\n",
    "#about the attributes a.k.a. metadata\n",
    "\n",
    "all_h5_objs = []\n",
    "f.visit(all_h5_objs.append)\n",
    "all_groups   = [ obj for obj in all_h5_objs if isinstance(f[obj],h5.Group) ]\n",
    "all_datasets = [ obj for obj in all_h5_objs if isinstance(f[obj],h5.Dataset) ]\n",
    "print(all_h5_objs)"
   ]
  },
  {
   "cell_type": "code",
   "execution_count": null,
   "metadata": {},
   "outputs": [],
   "source": [
    "###now that we know the structure of the file, we can get the data and store them into np.array\n",
    "\n",
    "axis0 = np.array(f.get('data/axis0').value)\n",
    "axis1 = np.array(f.get('data/axis1').value)\n",
    "block0_items = np.array(f.get('data/block0_items').value)\n",
    "block0_values = np.array(f.get('data/block0_values').value)"
   ]
  },
  {
   "cell_type": "code",
   "execution_count": null,
   "metadata": {},
   "outputs": [],
   "source": [
    "import pandas as pd\n",
    "df = pd.read_hdf(\"raw_display-1-220525-151538.hdf5\")\n",
    "print(df)"
   ]
  },
  {
   "cell_type": "code",
   "execution_count": null,
   "metadata": {},
   "outputs": [],
   "source": [
    "block0_values.shape"
   ]
  },
  {
   "cell_type": "code",
   "execution_count": null,
   "metadata": {},
   "outputs": [],
   "source": [
    "data"
   ]
  },
  {
   "cell_type": "code",
   "execution_count": null,
   "metadata": {},
   "outputs": [],
   "source": [
    "f.name"
   ]
  },
  {
   "cell_type": "code",
   "execution_count": null,
   "metadata": {},
   "outputs": [],
   "source": [
    "dset.type"
   ]
  },
  {
   "cell_type": "code",
   "execution_count": null,
   "metadata": {},
   "outputs": [],
   "source": [
    "list(f.values())"
   ]
  },
  {
   "cell_type": "code",
   "execution_count": null,
   "metadata": {},
   "outputs": [],
   "source": [
    "list(f.items())"
   ]
  },
  {
   "cell_type": "code",
   "execution_count": null,
   "metadata": {},
   "outputs": [],
   "source": [
    "list(f.attrs)"
   ]
  },
  {
   "cell_type": "code",
   "execution_count": null,
   "metadata": {},
   "outputs": [],
   "source": [
    "print(f.attrs.items())"
   ]
  },
  {
   "cell_type": "code",
   "execution_count": null,
   "metadata": {},
   "outputs": [],
   "source": [
    "data = f.get('data').value"
   ]
  },
  {
   "cell_type": "code",
   "execution_count": 1,
   "metadata": {},
   "outputs": [],
   "source": [
    "###"
   ]
  },
  {
   "cell_type": "code",
   "execution_count": 1,
   "metadata": {},
   "outputs": [
    {
     "name": "stdout",
     "output_type": "stream",
     "text": [
      "data\n"
     ]
    }
   ],
   "source": [
    "if __name__ == '__main__':\n",
    "# import required libraries\n",
    "    import h5py as h5\n",
    "    import numpy as np\n",
    "    import matplotlib.pyplot as plt\n",
    "    import os\n",
    "    \n",
    "    path_dir: str = r\"/home/svergani/monitoring/test_results\"\n",
    "    target_0 = h5.File(os.sep.join([path_dir, \"open_triggers_2022_10_04_16_15_20.hdf5\"]), 'r')\n",
    "    # Read H5 file\n",
    "    #f = h5.File(\"raw_display-1-220525-151538.hdf5\", \"r\")\n",
    "    # Get and print list of datasets within the H5 file\n",
    "    datasetNames = [n for n in target_0.keys()]\n",
    "    for n in datasetNames:\n",
    "        print(n)"
   ]
  },
  {
   "cell_type": "code",
   "execution_count": 3,
   "metadata": {},
   "outputs": [
    {
     "ename": "AttributeError",
     "evalue": "'Group' object has no attribute 'value'",
     "output_type": "error",
     "traceback": [
      "\u001b[0;31m---------------------------------------------------------------------------\u001b[0m",
      "\u001b[0;31mAttributeError\u001b[0m                            Traceback (most recent call last)",
      "\u001b[0;32m<ipython-input-3-cb9acf08a5e4>\u001b[0m in \u001b[0;36m<module>\u001b[0;34m()\u001b[0m\n\u001b[0;32m----> 1\u001b[0;31m \u001b[0mstd_0\u001b[0m \u001b[0;34m=\u001b[0m \u001b[0mnp\u001b[0m\u001b[0;34m.\u001b[0m\u001b[0marray\u001b[0m\u001b[0;34m(\u001b[0m\u001b[0mtarget_0\u001b[0m\u001b[0;34m.\u001b[0m\u001b[0mget\u001b[0m\u001b[0;34m(\u001b[0m\u001b[0;34m'data'\u001b[0m\u001b[0;34m)\u001b[0m\u001b[0;34m.\u001b[0m\u001b[0mvalue\u001b[0m\u001b[0;34m)\u001b[0m\u001b[0;34m\u001b[0m\u001b[0;34m\u001b[0m\u001b[0m\n\u001b[0m",
      "\u001b[0;31mAttributeError\u001b[0m: 'Group' object has no attribute 'value'"
     ]
    }
   ],
   "source": [
    "std_0 = np.array(target_0.get('data').value)"
   ]
  },
  {
   "cell_type": "code",
   "execution_count": 8,
   "metadata": {},
   "outputs": [
    {
     "name": "stdout",
     "output_type": "stream",
     "text": [
      "['data', 'data/axis0', 'data/axis1', 'data/block0_items', 'data/block0_values']\n"
     ]
    }
   ],
   "source": [
    "all_h5_objs = []\n",
    "target_0.visit(all_h5_objs.append)\n",
    "all_groups   = [ obj for obj in all_h5_objs if isinstance(target_0[obj],h5.Group) ]\n",
    "all_datasets = [ obj for obj in all_h5_objs if isinstance(target_0[obj],h5.Dataset) ]\n",
    "print(all_h5_objs)"
   ]
  },
  {
   "cell_type": "code",
   "execution_count": 9,
   "metadata": {},
   "outputs": [],
   "source": [
    "axis0 = np.array(target_0.get('data/axis0').value)\n",
    "axis1 = np.array(target_0.get('data/axis1').value)\n",
    "block0_items = np.array(target_0.get('data/block0_items').value)\n",
    "block0_values = np.array(target_0.get('data/block0_values').value)"
   ]
  },
  {
   "cell_type": "code",
   "execution_count": 13,
   "metadata": {},
   "outputs": [
    {
     "name": "stdout",
     "output_type": "stream",
     "text": [
      "[[18.27233696  1.67327702 12.81789017 14.54212189 16.38048553 14.61597347\n",
      "  17.76418495 13.46173096 12.36834717 12.39668465 10.86426163 12.34840584\n",
      "   9.87017059 13.17438221 10.4032917  11.69335365 11.90956783 12.25174141\n",
      "   9.80540943 11.06660843 12.33249569 15.58128548 12.28530598 12.47323322\n",
      "  12.33416939 11.19849491 13.02682686 13.62975979 13.64631653 11.79225349\n",
      "  11.95979214 14.45667171 17.43636322 21.19479561 19.49855042 17.15205383\n",
      "  12.6632843  12.76204109 12.56635475 11.61165047 18.65647507  1.65605485\n",
      "  18.61327362 17.68177223 17.22628212 18.50376701 16.41930962 17.1494751\n",
      "  17.72899055 25.62397194 22.0647049  18.61663055 16.76871109 20.36092567\n",
      "  17.83614731 20.09811783 20.68847466 17.06880379 16.21626854 15.99789619\n",
      "  17.71799088 18.80955696 15.41592503 16.07584572 14.57702255 16.74755287\n",
      "  15.36016655 14.95906639 14.60287762 14.65228081 21.819767   17.18005943\n",
      "  18.52976799 17.20162201 18.3128643  23.41409874 14.80179024  6.57512999\n",
      "   5.6127615   6.1460228 ]]\n"
     ]
    }
   ],
   "source": [
    "print(block0_values)"
   ]
  },
  {
   "cell_type": "code",
   "execution_count": 4,
   "metadata": {},
   "outputs": [
    {
     "name": "stdout",
     "output_type": "stream",
     "text": [
      "        2560      2561      2562       2563       2564       2565       2566  \\\n",
      "0  18.272337  1.673277  12.81789  14.542122  16.380486  14.615973  17.764185   \n",
      "\n",
      "        2567       2568       2569    ...          2790       2791       2792  \\\n",
      "0  13.461731  12.368347  12.396685    ...     21.819767  17.180059  18.529768   \n",
      "\n",
      "        2793       2794       2795      2796     2797      2798      2799  \n",
      "0  17.201622  18.312864  23.414099  14.80179  6.57513  5.612761  6.146023  \n",
      "\n",
      "[1 rows x 80 columns]\n"
     ]
    }
   ],
   "source": [
    "import pandas as pd\n",
    "df = pd.read_hdf(os.sep.join([path_dir, \"std-0-221003-181351.hdf5\"]))\n",
    "print(df)"
   ]
  },
  {
   "cell_type": "code",
   "execution_count": null,
   "metadata": {},
   "outputs": [],
   "source": []
  }
 ],
 "metadata": {
  "kernelspec": {
   "display_name": "Python 3",
   "language": "python",
   "name": "python3"
  },
  "language_info": {
   "codemirror_mode": {
    "name": "ipython",
    "version": 3
   },
   "file_extension": ".py",
   "mimetype": "text/x-python",
   "name": "python",
   "nbconvert_exporter": "python",
   "pygments_lexer": "ipython3",
   "version": "3.7.1"
  }
 },
 "nbformat": 4,
 "nbformat_minor": 2
}
