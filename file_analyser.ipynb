{
 "cells": [
  {
   "cell_type": "code",
   "execution_count": null,
   "metadata": {},
   "outputs": [],
   "source": [
    "####how to open an HDF5 file, extract data, and start some basics data analysis\n",
    "\n",
    "\n",
    "if __name__ == '__main__':\n",
    "# import required libraries\n",
    "    import h5py as h5\n",
    "    import numpy as np\n",
    "    import matplotlib.pyplot as plt\n",
    "    \n",
    "    # Read H5 file\n",
    "    f = h5.File(\"raw_display-1-220525-151538.hdf5\", \"r\")\n",
    "    # Get and print list of datasets within the H5 file\n",
    "    datasetNames = [n for n in f.keys()]\n",
    "    for n in datasetNames:\n",
    "        print(n)"
   ]
  },
  {
   "cell_type": "code",
   "execution_count": null,
   "metadata": {},
   "outputs": [],
   "source": [
    "###this snippet tells you the structure of the file, dividing in datasets and groups. It doesn't tell you anything\n",
    "#about the attributes a.k.a. metadata\n",
    "\n",
    "all_h5_objs = []\n",
    "f.visit(all_h5_objs.append)\n",
    "all_groups   = [ obj for obj in all_h5_objs if isinstance(f[obj],h5.Group) ]\n",
    "all_datasets = [ obj for obj in all_h5_objs if isinstance(f[obj],h5.Dataset) ]\n",
    "print(all_h5_objs)"
   ]
  },
  {
   "cell_type": "code",
   "execution_count": null,
   "metadata": {},
   "outputs": [],
   "source": [
    "###now that we know the structure of the file, we can get the data and store them into np.array\n",
    "\n",
    "axis0 = np.array(f.get('data/axis0').value)\n",
    "axis1 = np.array(f.get('data/axis1').value)\n",
    "block0_items = np.array(f.get('data/block0_items').value)\n",
    "block0_values = np.array(f.get('data/block0_values').value)"
   ]
  },
  {
   "cell_type": "code",
   "execution_count": null,
   "metadata": {},
   "outputs": [],
   "source": [
    "import pandas as pd\n",
    "df = pd.read_hdf(\"raw_display-1-220525-151538.hdf5\")\n",
    "print(df)"
   ]
  },
  {
   "cell_type": "code",
   "execution_count": null,
   "metadata": {},
   "outputs": [],
   "source": [
    "block0_values.shape"
   ]
  },
  {
   "cell_type": "code",
   "execution_count": null,
   "metadata": {},
   "outputs": [],
   "source": [
    "data"
   ]
  },
  {
   "cell_type": "code",
   "execution_count": null,
   "metadata": {},
   "outputs": [],
   "source": [
    "f.name"
   ]
  },
  {
   "cell_type": "code",
   "execution_count": null,
   "metadata": {},
   "outputs": [],
   "source": [
    "dset.type"
   ]
  },
  {
   "cell_type": "code",
   "execution_count": null,
   "metadata": {},
   "outputs": [],
   "source": [
    "list(f.values())"
   ]
  },
  {
   "cell_type": "code",
   "execution_count": null,
   "metadata": {},
   "outputs": [],
   "source": [
    "list(f.items())"
   ]
  },
  {
   "cell_type": "code",
   "execution_count": null,
   "metadata": {},
   "outputs": [],
   "source": [
    "list(f.attrs)"
   ]
  },
  {
   "cell_type": "code",
   "execution_count": null,
   "metadata": {},
   "outputs": [],
   "source": [
    "print(f.attrs.items())"
   ]
  },
  {
   "cell_type": "code",
   "execution_count": null,
   "metadata": {},
   "outputs": [],
   "source": [
    "data = f.get('data').value"
   ]
  },
  {
   "cell_type": "code",
   "execution_count": 1,
   "metadata": {},
   "outputs": [],
   "source": [
    "###"
   ]
  },
  {
   "cell_type": "code",
   "execution_count": 4,
   "metadata": {},
   "outputs": [
    {
     "name": "stdout",
     "output_type": "stream",
     "text": [
      "channels_1\n",
      "std_display_1\n"
     ]
    }
   ],
   "source": [
    "if __name__ == '__main__':\n",
    "# import required libraries\n",
    "    import h5py as h5\n",
    "    import numpy as np\n",
    "    import matplotlib.pyplot as plt\n",
    "    import os\n",
    "    \n",
    "    path_dir: str = r\"/home/svergani/monitoring/hdf5_created_files\"\n",
    "    target_0 = h5.File(os.sep.join([path_dir, \"std_display_1_2022_05_22.hdf5\"]), 'r')\n",
    "    # Read H5 file\n",
    "    #f = h5.File(\"raw_display-1-220525-151538.hdf5\", \"r\")\n",
    "    # Get and print list of datasets within the H5 file\n",
    "    datasetNames = [n for n in target_0.keys()]\n",
    "    for n in datasetNames:\n",
    "        print(n)"
   ]
  },
  {
   "cell_type": "code",
   "execution_count": null,
   "metadata": {},
   "outputs": [],
   "source": []
  }
 ],
 "metadata": {
  "kernelspec": {
   "display_name": "Python 3",
   "language": "python",
   "name": "python3"
  },
  "language_info": {
   "codemirror_mode": {
    "name": "ipython",
    "version": 3
   },
   "file_extension": ".py",
   "mimetype": "text/x-python",
   "name": "python",
   "nbconvert_exporter": "python",
   "pygments_lexer": "ipython3",
   "version": "3.7.1"
  }
 },
 "nbformat": 4,
 "nbformat_minor": 2
}
