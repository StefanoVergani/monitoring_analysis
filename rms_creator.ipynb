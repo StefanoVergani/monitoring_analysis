{
 "cells": [
  {
   "cell_type": "code",
   "execution_count": 1,
   "metadata": {},
   "outputs": [],
   "source": [
    "#this program creates hdf5 with the RMS (square root of the mean square) \n",
    "#there is another code which produces a so-called RMSM but should be inteded as the standard deviation"
   ]
  },
  {
   "cell_type": "code",
   "execution_count": 2,
   "metadata": {},
   "outputs": [],
   "source": [
    "# I start with some useful libraries\n",
    "\n",
    "import os\n",
    "import pandas as pd\n",
    "import h5py as h5\n",
    "import numpy as np\n",
    "import matplotlib.pyplot as plt\n",
    "import matplotlib as mpl\n",
    "from mpl_toolkits import mplot3d\n",
    "from matplotlib.ticker import MaxNLocator"
   ]
  },
  {
   "cell_type": "code",
   "execution_count": 7,
   "metadata": {},
   "outputs": [],
   "source": [
    "path_dir_raw_display_0: str = r\"/home/svergani/monitoring/files/raw_display_0\"\n",
    "path_dir_raw_display_1: str = r\"/home/svergani/monitoring/files/raw_display_1\"\n",
    "path_dir_raw_display_2: str = r\"/home/svergani/monitoring/files/raw_display_2\""
   ]
  },
  {
   "cell_type": "code",
   "execution_count": 23,
   "metadata": {},
   "outputs": [],
   "source": [
    "path_dir_rms_display_0: str = r\"/home/svergani/monitoring/files/rms_display_0\"\n",
    "path_dir_rms_display_1: str = r\"/home/svergani/monitoring/files/rms_display_1\"\n",
    "path_dir_rms_display_2: str = r\"/home/svergani/monitoring/files/rms_display_2\""
   ]
  },
  {
   "cell_type": "code",
   "execution_count": 13,
   "metadata": {},
   "outputs": [],
   "source": [
    "def rms_func(x):\n",
    "  return np.sqrt(np.mean(x**2))"
   ]
  },
  {
   "cell_type": "code",
   "execution_count": 19,
   "metadata": {},
   "outputs": [],
   "source": [
    "directory = os.fsencode(path_dir_raw_display_0)\n",
    "string = 'rms'\n",
    "    \n",
    "for file in os.listdir(directory):\n",
    "    filename = os.fsdecode(file)\n",
    "    if filename.endswith(\".hdf5\"): \n",
    "        df = pd.read_hdf(os.sep.join([path_dir_raw_display_0, filename]))\n",
    "        f = h5.File(os.sep.join([path_dir_raw_display_0, filename]), \"r\")\n",
    "        channels = np.array(f.get('data/axis0').value)\n",
    "        rms = []\n",
    "        for i in range(channels.size):\n",
    "            rms.append(rms_func(df.iat[0,i]))\n",
    "        \n",
    "        filename_rms = 'rms'+filename[3:]\n",
    "        hf_target = h5.File(os.sep.join([path_dir_rms_display_0,filename_rms]), 'w')\n",
    "        hf_target.create_dataset('rms', data=rms)\n",
    "        hf_target.create_dataset('channels', data=channels)\n",
    "        hf_target.close()\n",
    "        del rms\n",
    "        continue\n",
    "    else:\n",
    "        continue"
   ]
  },
  {
   "cell_type": "code",
   "execution_count": 20,
   "metadata": {},
   "outputs": [],
   "source": [
    "directory = os.fsencode(path_dir_raw_display_1)\n",
    "string = 'rms'\n",
    "    \n",
    "for file in os.listdir(directory):\n",
    "    filename = os.fsdecode(file)\n",
    "    if filename.endswith(\".hdf5\"): \n",
    "        df = pd.read_hdf(os.sep.join([path_dir_raw_display_1, filename]))\n",
    "        f = h5.File(os.sep.join([path_dir_raw_display_1, filename]), \"r\")\n",
    "        channels = np.array(f.get('data/axis0').value)\n",
    "        rms = []\n",
    "        for i in range(channels.size):\n",
    "            rms.append(rms_func(df.iat[0,i]))\n",
    "        \n",
    "        filename_rms = 'rms'+filename[3:]\n",
    "        hf_target = h5.File(os.sep.join([path_dir_rms_display_1,filename_rms]), 'w')\n",
    "        hf_target.create_dataset('rms', data=rms)\n",
    "        hf_target.create_dataset('channels', data=channels)\n",
    "        hf_target.close()\n",
    "        del rms\n",
    "        continue\n",
    "    else:\n",
    "        continue"
   ]
  },
  {
   "cell_type": "code",
   "execution_count": 21,
   "metadata": {},
   "outputs": [],
   "source": [
    "directory = os.fsencode(path_dir_raw_display_2)\n",
    "string = 'rms'\n",
    "    \n",
    "for file in os.listdir(directory):\n",
    "    filename = os.fsdecode(file)\n",
    "    if filename.endswith(\".hdf5\"): \n",
    "        df = pd.read_hdf(os.sep.join([path_dir_raw_display_2, filename]))\n",
    "        f = h5.File(os.sep.join([path_dir_raw_display_2, filename]), \"r\")\n",
    "        channels = np.array(f.get('data/axis0').value)\n",
    "        rms = []\n",
    "        for i in range(channels.size):\n",
    "            rms.append(rms_func(df.iat[0,i]))\n",
    "        \n",
    "        filename_rms = 'rms'+filename[3:]\n",
    "        hf_target = h5.File(os.sep.join([path_dir_rms_display_2,filename_rms]), 'w')\n",
    "        hf_target.create_dataset('rms', data=rms)\n",
    "        hf_target.create_dataset('channels', data=channels)\n",
    "        hf_target.close()\n",
    "        del rms\n",
    "        continue\n",
    "    else:\n",
    "        continue"
   ]
  },
  {
   "cell_type": "code",
   "execution_count": 27,
   "metadata": {},
   "outputs": [],
   "source": [
    "f_2 = h5.File(os.sep.join([path_dir_rms_display_2, \"rms_display-2-220525-153758.hdf5\"]), \"r\")"
   ]
  },
  {
   "cell_type": "code",
   "execution_count": 28,
   "metadata": {},
   "outputs": [
    {
     "name": "stdout",
     "output_type": "stream",
     "text": [
      "channels\n",
      "rms\n"
     ]
    }
   ],
   "source": [
    "# Get and print list of datasets within the H5 file\n",
    "datasetNames = [n for n in f_2.keys()]\n",
    "for n in datasetNames:\n",
    "    print(n)"
   ]
  },
  {
   "cell_type": "code",
   "execution_count": 30,
   "metadata": {},
   "outputs": [],
   "source": [
    "abc = np.array(f_2.get('rms').value)"
   ]
  },
  {
   "cell_type": "code",
   "execution_count": 31,
   "metadata": {},
   "outputs": [
    {
     "data": {
      "text/plain": [
       "(96,)"
      ]
     },
     "execution_count": 31,
     "metadata": {},
     "output_type": "execute_result"
    }
   ],
   "source": [
    "abc.shape"
   ]
  },
  {
   "cell_type": "code",
   "execution_count": 33,
   "metadata": {},
   "outputs": [
    {
     "data": {
      "text/plain": [
       "array([ 980., 1001.,  972., 1026.,  971.,  980.,  924.,  972.,  922.,\n",
       "        978.,  914.,  983.,  954., 1022.,  928.,  988.,  918.,  979.,\n",
       "        917.,  927.,  920.,  920.,  910.,  920.,  940.,  992.,  928.,\n",
       "       1031.,  936., 1103., 1177.,  940.,  929.,  903.,  899.,  940.,\n",
       "        974.,  975.,  923.,  965.,  991.,  992.,  906., 1002.,  951.,\n",
       "        912.,  959.,  935.,  990.,  984.,  917.,  982.,  946., 1037.,\n",
       "        930.,  910.,  932.,  968.,  891.,  940.,  942., 1020.,  906.,\n",
       "       1006.,  858.,  972.,  901.,  990.,  878.,  962.,  853.,  967.,\n",
       "       1004., 1013.,  923.,  976.,  962., 1002.,  923.,  914.,  984.,\n",
       "        916.,  961.,  934.,  982., 1034.,  950., 1003.,  923.,  985.,\n",
       "        937.,  963.,  974.,  965.,  922.,  931.])"
      ]
     },
     "execution_count": 33,
     "metadata": {},
     "output_type": "execute_result"
    }
   ],
   "source": [
    "abc"
   ]
  },
  {
   "cell_type": "code",
   "execution_count": null,
   "metadata": {},
   "outputs": [],
   "source": []
  }
 ],
 "metadata": {
  "kernelspec": {
   "display_name": "Python 3",
   "language": "python",
   "name": "python3"
  },
  "language_info": {
   "codemirror_mode": {
    "name": "ipython",
    "version": 3
   },
   "file_extension": ".py",
   "mimetype": "text/x-python",
   "name": "python",
   "nbconvert_exporter": "python",
   "pygments_lexer": "ipython3",
   "version": "3.7.0"
  }
 },
 "nbformat": 4,
 "nbformat_minor": 2
}
